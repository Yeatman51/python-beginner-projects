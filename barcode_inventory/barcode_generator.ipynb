{
 "cells": [
  {
   "cell_type": "code",
   "execution_count": 90,
   "id": "cdeed3fa",
   "metadata": {},
   "outputs": [],
   "source": [
    "from barcode import Code39"
   ]
  },
  {
   "cell_type": "code",
   "execution_count": 91,
   "id": "2f465be7",
   "metadata": {},
   "outputs": [],
   "source": [
    "from barcode.writer import ImageWriter"
   ]
  },
  {
   "cell_type": "code",
   "execution_count": 130,
   "id": "e33c90fe",
   "metadata": {},
   "outputs": [],
   "source": [
    "data = '1234567890123'\n"
   ]
  },
  {
   "cell_type": "code",
   "execution_count": 131,
   "id": "a3384cbd",
   "metadata": {},
   "outputs": [],
   "source": [
    "my_code = Code39(data, writer=ImageWriter())"
   ]
  },
  {
   "cell_type": "code",
   "execution_count": 132,
   "id": "006a525a",
   "metadata": {},
   "outputs": [
    {
     "data": {
      "text/plain": [
       "'barcode_19.png'"
      ]
     },
     "execution_count": 132,
     "metadata": {},
     "output_type": "execute_result"
    }
   ],
   "source": [
    "my_code.save(\"barcode_19\")"
   ]
  },
  {
   "cell_type": "code",
   "execution_count": 133,
   "id": "1c385e14",
   "metadata": {},
   "outputs": [
    {
     "name": "stdout",
     "output_type": "stream",
     "text": [
      "1234567890123\n"
     ]
    }
   ],
   "source": [
    "print(data)"
   ]
  },
  {
   "cell_type": "code",
   "execution_count": null,
   "id": "c42e14ad",
   "metadata": {},
   "outputs": [],
   "source": [
    "class Info: \n",
    "    def __init__(obj,lotnumber,exdate):\n",
    "        obj.lotnumber = lotnumber\n",
    "        obj.exdate = exdate\n",
    "    \n",
    "    def data(lotnumber, exdate):\n",
    "        print(lotnumber + exdate)\n",
    "\n",
    "p1 = Info(\"123456\", '7890123')\n",
    "p1.data()\n"
   ]
  }
 ],
 "metadata": {
  "kernelspec": {
   "display_name": "Python 3 (ipykernel)",
   "language": "python",
   "name": "python3"
  },
  "language_info": {
   "codemirror_mode": {
    "name": "ipython",
    "version": 3
   },
   "file_extension": ".py",
   "mimetype": "text/x-python",
   "name": "python",
   "nbconvert_exporter": "python",
   "pygments_lexer": "ipython3",
   "version": "3.9.7"
  }
 },
 "nbformat": 4,
 "nbformat_minor": 5
}
