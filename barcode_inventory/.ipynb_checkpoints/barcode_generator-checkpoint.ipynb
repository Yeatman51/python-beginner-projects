{
 "cells": [
  {
   "cell_type": "code",
   "execution_count": 33,
   "id": "04f1ac66",
   "metadata": {},
   "outputs": [],
   "source": [
    "from barcode import EAN13"
   ]
  },
  {
   "cell_type": "code",
   "execution_count": 34,
   "id": "8b15bece",
   "metadata": {},
   "outputs": [],
   "source": [
    "from barcode.writer import ImageWriter"
   ]
  },
  {
   "cell_type": "code",
   "execution_count": 35,
   "id": "1e904987",
   "metadata": {},
   "outputs": [],
   "source": [
    "id = '1234567890123'"
   ]
  },
  {
   "cell_type": "code",
   "execution_count": 36,
   "id": "15115db8",
   "metadata": {},
   "outputs": [],
   "source": [
    "my_code = EAN13(id, writer=ImageWriter())"
   ]
  },
  {
   "cell_type": "code",
   "execution_count": 37,
   "id": "9dd39f3d",
   "metadata": {},
   "outputs": [
    {
     "data": {
      "text/plain": [
       "'barcode_16.png'"
      ]
     },
     "execution_count": 37,
     "metadata": {},
     "output_type": "execute_result"
    }
   ],
   "source": [
    "my_code.save(\"barcode_16\")"
   ]
  },
  {
   "cell_type": "code",
   "execution_count": null,
   "id": "76a557ce",
   "metadata": {},
   "outputs": [],
   "source": []
  }
 ],
 "metadata": {
  "kernelspec": {
   "display_name": "Python 3 (ipykernel)",
   "language": "python",
   "name": "python3"
  },
  "language_info": {
   "codemirror_mode": {
    "name": "ipython",
    "version": 3
   },
   "file_extension": ".py",
   "mimetype": "text/x-python",
   "name": "python",
   "nbconvert_exporter": "python",
   "pygments_lexer": "ipython3",
   "version": "3.9.7"
  }
 },
 "nbformat": 4,
 "nbformat_minor": 5
}
