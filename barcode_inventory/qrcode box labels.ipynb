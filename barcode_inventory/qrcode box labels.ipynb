{
 "cells": [
  {
   "cell_type": "code",
   "execution_count": 3,
   "id": "9bd05bc4",
   "metadata": {
    "scrolled": true
   },
   "outputs": [],
   "source": [
    "import qrcode\n",
    "import pandas as pd"
   ]
  },
  {
   "cell_type": "code",
   "execution_count": null,
   "id": "44160eac",
   "metadata": {},
   "outputs": [],
   "source": [
    "def createQRCode():\n",
    "\n",
    "\n",
    "    df = pd.read_csv(\"Data.csv\")\n",
    "\n",
    "    for index, values in df.iterrows():\n",
    "\n",
    "        brand = values[\"Brand\"]\n",
    "        name = values[\"Name\"]\n",
    "        category = values[\"Category\"]\n",
    "        barcode = values[\"Barcode\"]\n",
    "\n",
    "        data = f'''\n",
    "        Name: {name} \\n\n",
    "        Barcode: {barcode} \\n\n",
    "        Category: {category} \\n\n",
    "        Brand: {brand}\n",
    "        '''\n",
    "        image = pyqrcode.create(data)\n",
    "        image.svg(f\"{name}_{barcode}.svg\", scale=\"5\")\n",
    "        print(data)\n",
    "\n",
    "\n",
    "\n",
    "createQRCode()"
   ]
  },
  {
   "cell_type": "code",
   "execution_count": null,
   "id": "236f683c",
   "metadata": {},
   "outputs": [],
   "source": [
    "# pip install pypng\n",
    "# pip install pyqrcode"
   ]
  },
  {
   "cell_type": "code",
   "execution_count": 19,
   "id": "6f12121e",
   "metadata": {},
   "outputs": [
    {
     "name": "stdout",
     "output_type": "stream",
     "text": [
      "\n",
      "        Blue ice packs (30), \n",
      "\n",
      "        small cooler ID 11X3, \n",
      "\n",
      "        27 inch monitor, \n",
      "\n",
      "        Mouse and keyboard,\n",
      "        \n"
     ]
    }
   ],
   "source": [
    "import pyqrcode\n",
    "import png\n",
    "\n",
    "def createQRCode():\n",
    "    \n",
    "    boxID = '005'\n",
    "\n",
    "    data = f'''\n",
    "        Blue ice packs (30), \\n\n",
    "        small cooler ID 11X3, \\n\n",
    "        27 inch monitor, \\n\n",
    "        Mouse and keyboard,\n",
    "        '''\n",
    "    image = pyqrcode.create(data)\n",
    "    image.png(f\"{boxID}.png\", scale=\"5\")\n",
    "    print(data)\n",
    "\n",
    "\n",
    "\n",
    "createQRCode()"
   ]
  },
  {
   "cell_type": "code",
   "execution_count": null,
   "id": "f76a4958",
   "metadata": {},
   "outputs": [],
   "source": []
  }
 ],
 "metadata": {
  "kernelspec": {
   "display_name": "Python 3 (ipykernel)",
   "language": "python",
   "name": "python3"
  },
  "language_info": {
   "codemirror_mode": {
    "name": "ipython",
    "version": 3
   },
   "file_extension": ".py",
   "mimetype": "text/x-python",
   "name": "python",
   "nbconvert_exporter": "python",
   "pygments_lexer": "ipython3",
   "version": "3.9.7"
  }
 },
 "nbformat": 4,
 "nbformat_minor": 5
}
