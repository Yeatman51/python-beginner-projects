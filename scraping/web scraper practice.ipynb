{
 "cells": [
  {
   "cell_type": "code",
   "execution_count": null,
   "id": "9cc0f20b",
   "metadata": {},
   "outputs": [],
   "source": [
    "from bs4 import BeautifulSoup\n",
    "import requests\n",
    "from csv import writer\n",
    "\n",
    "url= \"https://www.apartments.com/apartments/asheville-nc/1-bedrooms/?bb=gr6p7g7n-Hsh39hjK\"\n",
    "page = requests.get(url)\n",
    "\n",
    "print(page)\n",
    "\n",
    "soup = BeautifulSoup(page.content, 'html.parser')\n",
    "lists = soup.find_all('section', class_=\"placards placardsv2\")\n",
    "print(\"help\")\n",
    "with open('housing.csv', 'w', encoding='utf8', newline='') as f:\n",
    "    thewriter = writer(f)\n",
    "    header = ['Title', 'Address','Bedrooms','Price']\n",
    "    thewriter.writerow(header)\n",
    "\n",
    "    for list in lists:\n",
    "        title = list.find('span', class_=\"js-placardTitle title\").text.replace('\\n', '')\n",
    "        address = list.find('div', class_=\"property-address\").text.replace('\\n', '')\n",
    "        bedrooms = list.find('p', class_=\"property-beds\").text.replace('\\n', '')\n",
    "        price = list.find('p', class_=\"property-pricing\").text.replace('\\n', '')\n",
    "        \n",
    "        info = [title, address, bedrooms, price]\n",
    "        thewriter.writerow(info)\n"
   ]
  },
  {
   "cell_type": "code",
   "execution_count": null,
   "id": "63a82fab",
   "metadata": {},
   "outputs": [],
   "source": []
  },
  {
   "cell_type": "code",
   "execution_count": null,
   "id": "03f6043e",
   "metadata": {},
   "outputs": [],
   "source": []
  }
 ],
 "metadata": {
  "kernelspec": {
   "display_name": "Python 3 (ipykernel)",
   "language": "python",
   "name": "python3"
  },
  "language_info": {
   "codemirror_mode": {
    "name": "ipython",
    "version": 3
   },
   "file_extension": ".py",
   "mimetype": "text/x-python",
   "name": "python",
   "nbconvert_exporter": "python",
   "pygments_lexer": "ipython3",
   "version": "3.9.7"
  }
 },
 "nbformat": 4,
 "nbformat_minor": 5
}
