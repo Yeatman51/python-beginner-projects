{
 "cells": [
  {
   "cell_type": "code",
   "execution_count": 12,
   "id": "4db3687b",
   "metadata": {
    "scrolled": true
   },
   "outputs": [],
   "source": [
    "\n",
    "import matplotlib as mpl\n",
    "import numpy as np\n",
    "import matplotlib.pyplot as plt\n",
    "import pandas as pd\n",
    "import seaborn as sns\n"
   ]
  },
  {
   "cell_type": "code",
   "execution_count": 11,
   "id": "6a9a4254",
   "metadata": {},
   "outputs": [
    {
     "name": "stdout",
     "output_type": "stream",
     "text": [
      "     Year      Brand                                 Superbowl Ads Link  \\\n",
      "0    2000    E-Trade  https://superbowl-ads.com/2000-etrade-monkey-d...   \n",
      "1    2000    E-Trade  https://superbowl-ads.com/2000-etrade-money-ou...   \n",
      "2    2000  Budweiser  https://superbowl-ads.com/2000-budweiser-whaas...   \n",
      "3    2000  Bud Light  https://superbowl-ads.com/2000-bud-light-hold-...   \n",
      "4    2000  Budweiser  https://superbowl-ads.com/2000-budweiser-talki...   \n",
      "..    ...        ...                                                ...   \n",
      "244  2021    E-Trade  https://www.superbowl-ads.com/2021-etrade-work...   \n",
      "245  2021     Toyota  https://www.superbowl-ads.com/2021-toyota-jess...   \n",
      "246  2021  Bud Light  https://www.superbowl-ads.com/2021-bud-light-l...   \n",
      "247  2021    Doritos  https://www.superbowl-ads.com/2021-doritos-3d-...   \n",
      "248  2021  Bud Light  https://www.superbowl-ads.com/2021-bud-light-l...   \n",
      "\n",
      "                                         Youtube Link  Funny  \\\n",
      "0         https://www.youtube.com/watch?v=Muyq2kMDFoA   True   \n",
      "1         https://www.youtube.com/watch?v=oftjwYmlfoA   True   \n",
      "2         https://www.youtube.com/watch?v=loimTUjV92Q   True   \n",
      "3         https://www.youtube.com/watch?v=M3IV93HwSkc   True   \n",
      "4         https://www.youtube.com/watch?v=dK1tlG778J8   True   \n",
      "..                                                ...    ...   \n",
      "244       https://www.youtube.com/watch?v=QagQxo4IZx8   True   \n",
      "245  https://www.youtube.com/watch?v=fqWG5_7nwyk&t=1s  False   \n",
      "246       https://www.youtube.com/watch?v=IOjsm02SVF4   True   \n",
      "247  https://www.youtube.com/watch?v=BLuqtTn4610&t=9s   True   \n",
      "248       https://www.youtube.com/watch?v=g6CVKs77X74   True   \n",
      "\n",
      "     Shows Product Quickly  Patriotic  Celebrity  Danger  Animals  Uses Sex  \\\n",
      "0                     True      False      False   False     True     False   \n",
      "1                     True      False      False    True    False     False   \n",
      "2                     True      False      False   False    False     False   \n",
      "3                     True      False      False    True    False     False   \n",
      "4                    False      False      False   False     True     False   \n",
      "..                     ...        ...        ...     ...      ...       ...   \n",
      "244                  False      False       True   False    False     False   \n",
      "245                  False       True      False   False    False     False   \n",
      "246                   True      False       True    True    False     False   \n",
      "247                  False      False       True    True     True     False   \n",
      "248                   True      False      False    True    False     False   \n",
      "\n",
      "     Length  Estimated Cost  Youtube Views  Youtube Likes  TV Viewers  \n",
      "0        30             2.1        13615.0           84.0       88.47  \n",
      "1        30             2.1        72772.0          146.0       88.47  \n",
      "2        30             2.1         5399.0           11.0       88.47  \n",
      "3        30             2.1         6699.0            8.0       88.47  \n",
      "4        30             2.1        18972.0            6.0       88.47  \n",
      "..      ...             ...            ...            ...         ...  \n",
      "244      30             5.5          177.0            6.0       91.63  \n",
      "245      60            11.0      1399700.0        12000.0       91.63  \n",
      "246      60            11.0         4250.0           33.0       91.63  \n",
      "247      60            11.0     21546933.0        20000.0       91.63  \n",
      "248      60            11.0      5140823.0         2900.0       91.63  \n",
      "\n",
      "[249 rows x 16 columns]\n"
     ]
    }
   ],
   "source": [
    "df = pd.read_csv (r'superbowl_commercials.csv')\n",
    "print (df)\n",
    "\n",
    "plt.show()"
   ]
  },
  {
   "cell_type": "code",
   "execution_count": null,
   "id": "ed3e16eb",
   "metadata": {},
   "outputs": [],
   "source": []
  }
 ],
 "metadata": {
  "kernelspec": {
   "display_name": "Python 3 (ipykernel)",
   "language": "python",
   "name": "python3"
  },
  "language_info": {
   "codemirror_mode": {
    "name": "ipython",
    "version": 3
   },
   "file_extension": ".py",
   "mimetype": "text/x-python",
   "name": "python",
   "nbconvert_exporter": "python",
   "pygments_lexer": "ipython3",
   "version": "3.9.7"
  }
 },
 "nbformat": 4,
 "nbformat_minor": 5
}
